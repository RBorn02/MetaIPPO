{
 "cells": [
  {
   "cell_type": "code",
   "execution_count": 1,
   "metadata": {},
   "outputs": [],
   "source": [
    "import torch\n",
    "from Envs.simple_landmarks import MultiAgentLandmarks, MultiGoalEnv, MultiAgentLandmarksComm\n",
    "from Envs.environment_handler import EnvironmentHandler\n",
    "from agent import LSTMAgent\n",
    "from policy import LSTM_PPO_Policy"
   ]
  },
  {
   "cell_type": "code",
   "execution_count": 2,
   "metadata": {},
   "outputs": [],
   "source": [
    "\n",
    "env_config = {\"num_landmarks\": 3,\n",
    "              \"num_agents\": 2,\n",
    "              \"timelimit\": 10,\n",
    "              \"coop_chance\":0.0,\n",
    "              \"message_len\": 3,\n",
    "              \"vocab_size\": 3,\n",
    "              \"message_penalty\": 0.02,\n",
    "              \"seed\": 42,\n",
    "              \"env_name\": \"MultiAgentLandmarks\",\n",
    "              \"num_envs\": 4}\n",
    "\n",
    "model_config = {\"channel_1\": 16,\n",
    "                \"channel_2\": 32,\n",
    "                \"channel_3\": 32,\n",
    "                \"lstm_in_size\": 256,\n",
    "                \"lstm_hidden_size\": 256,\n",
    "                \"lstm_layers\":1,\n",
    "                }\n",
    "config = {\"env_config\": env_config,\n",
    "          \"model\": model_config,}\n"
   ]
  },
  {
   "cell_type": "code",
   "execution_count": 4,
   "metadata": {},
   "outputs": [],
   "source": [
    "env = EnvironmentHandler(config)"
   ]
  },
  {
   "cell_type": "code",
   "execution_count": 5,
   "metadata": {},
   "outputs": [],
   "source": [
    "obs, info = env.reset([i for i in range(4)])"
   ]
  },
  {
   "cell_type": "code",
   "execution_count": 6,
   "metadata": {},
   "outputs": [
    {
     "name": "stdout",
     "output_type": "stream",
     "text": [
      "{'agent_0': array([False, False, False, False]), 'agent_1': array([False, False, False, False]), '__all__': array([False, False, False, False])}\n"
     ]
    }
   ],
   "source": [
    "for i in range(5):\n",
    "    actions = torch.zeros((4, 2, 2))\n",
    "    obs, rews, dones, infos = env.step(actions)\n",
    "print(dones)"
   ]
  },
  {
   "cell_type": "code",
   "execution_count": 12,
   "metadata": {},
   "outputs": [],
   "source": [
    "def handle_dones(dones):\n",
    "    \"\"\"Handles the dones. Converts bools to binary tensor for each agent\"\"\"\n",
    "    dones_out =  {}\n",
    "    for key in dones.keys():\n",
    "        if key == \"__all__\":\n",
    "            continue\n",
    "        else:\n",
    "            dones_out[key] = torch.tensor(dones[key], dtype=torch.float32)\n",
    "    return dones_out"
   ]
  },
  {
   "cell_type": "code",
   "execution_count": 13,
   "metadata": {},
   "outputs": [
    {
     "data": {
      "text/plain": [
       "{'agent_0': tensor([0., 0., 0., 0.]), 'agent_1': tensor([0., 0., 0., 0.])}"
      ]
     },
     "execution_count": 13,
     "metadata": {},
     "output_type": "execute_result"
    }
   ],
   "source": [
    "next_dones = handle_dones(dones)\n",
    "next_dones"
   ]
  },
  {
   "cell_type": "code",
   "execution_count": 14,
   "metadata": {},
   "outputs": [
    {
     "data": {
      "text/plain": [
       "tensor([[0., 0.],\n",
       "        [1., 0.],\n",
       "        [1., 0.],\n",
       "        [0., 0.]])"
      ]
     },
     "execution_count": 14,
     "metadata": {},
     "output_type": "execute_result"
    }
   ],
   "source": [
    "test = torch.zeros(4, 2)\n",
    "ones = torch.ones(2)\n",
    "test[[1, 2], [0, 0]] = ones\n",
    "test"
   ]
  },
  {
   "cell_type": "code",
   "execution_count": 29,
   "metadata": {},
   "outputs": [
    {
     "name": "stdout",
     "output_type": "stream",
     "text": [
      "tensor([[[ 0.0000,  0.0000],\n",
      "         [ 0.0000,  0.0000]],\n",
      "\n",
      "        [[ 1.9760,  1.4021],\n",
      "         [ 0.2774,  0.2803]],\n",
      "\n",
      "        [[-0.7494, -0.3849],\n",
      "         [-1.7371,  0.9331]],\n",
      "\n",
      "        [[ 0.0000,  0.0000],\n",
      "         [ 0.0000,  0.0000]]])\n"
     ]
    }
   ],
   "source": [
    "#Get dones\n",
    "dones = torch.Tensor([0, 1, 1, 0])\n",
    "obs = torch.randn(4, 2, 2)\n",
    "#Get indexes\n",
    "done_idx = dones.nonzero().squeeze()\n",
    "print(done_idx)\n",
    "#feed not done obs to network\n",
    "input_obs = obs[done_idx]\n",
    "fake_input_obs = torch.ones_like(input_obs)\n",
    "#Instatiate next_obs tensor and broadcast obs to it\n",
    "next_obs = torch.zeros(4, 2, 2)\n",
    "next_obs[done_idx] = input_obs\n",
    "print(next_obs)"
   ]
  },
  {
   "cell_type": "code",
   "execution_count": 37,
   "metadata": {},
   "outputs": [
    {
     "name": "stdout",
     "output_type": "stream",
     "text": [
      "All true\n"
     ]
    },
    {
     "data": {
      "text/plain": [
       "tensor([True, True])"
      ]
     },
     "execution_count": 37,
     "metadata": {},
     "output_type": "execute_result"
    }
   ],
   "source": [
    "twos = torch.ones(2) * 2\n",
    "ones = torch.ones(2)\n",
    "condition = twos > ones\n",
    "condition.all() \n",
    "if condition.all():\n",
    "    print(\"All true\")\n",
    "ones.bool()"
   ]
  },
  {
   "cell_type": "code",
   "execution_count": 4,
   "metadata": {},
   "outputs": [],
   "source": [
    "agent = LSTMAgent(env, config)\n",
    "obs_shape = agent.observation_shape"
   ]
  },
  {
   "cell_type": "code",
   "execution_count": 5,
   "metadata": {},
   "outputs": [
    {
     "name": "stdout",
     "output_type": "stream",
     "text": [
      "torch.Size([4, 64, 64, 3])\n"
     ]
    }
   ],
   "source": [
    "input = torch.zeros((4, obs_shape[0], obs_shape[1], obs_shape[2]))\n",
    "print(input.shape)"
   ]
  },
  {
   "cell_type": "code",
   "execution_count": 6,
   "metadata": {},
   "outputs": [],
   "source": [
    "next_lstm_state = (\n",
    "        torch.zeros(agent.lstm.num_layers, 4, agent.lstm.hidden_size),\n",
    "        torch.zeros(agent.lstm.num_layers, 4, agent.lstm.hidden_size),\n",
    "    ) \n",
    "\n",
    "done = torch.Tensor([0,0,0,0])"
   ]
  },
  {
   "cell_type": "code",
   "execution_count": 7,
   "metadata": {},
   "outputs": [
    {
     "data": {
      "text/plain": [
       "(tensor([[-0.2742, -2.1660],\n",
       "         [-0.3977,  0.3407],\n",
       "         [ 0.5400, -0.3248],\n",
       "         [-0.6285, -0.8550]]),\n",
       " tensor([-4.2212, -1.9750, -2.0364, -2.4009], grad_fn=<SumBackward1>),\n",
       " tensor([2.8379, 2.8379, 2.8379, 2.8379], grad_fn=<SumBackward1>),\n",
       " tensor([[-0.0042],\n",
       "         [-0.0042],\n",
       "         [-0.0042],\n",
       "         [-0.0042]], grad_fn=<AddmmBackward0>),\n",
       " (tensor([[[-0.0038, -0.0020, -0.0031,  ...,  0.0024, -0.0014, -0.0010],\n",
       "           [-0.0038, -0.0020, -0.0031,  ...,  0.0024, -0.0014, -0.0010],\n",
       "           [-0.0038, -0.0020, -0.0031,  ...,  0.0024, -0.0014, -0.0010],\n",
       "           [-0.0038, -0.0020, -0.0031,  ...,  0.0024, -0.0014, -0.0010]]],\n",
       "         grad_fn=<StackBackward0>),\n",
       "  tensor([[[-0.0077, -0.0041, -0.0062,  ...,  0.0047, -0.0029, -0.0019],\n",
       "           [-0.0077, -0.0041, -0.0062,  ...,  0.0047, -0.0029, -0.0019],\n",
       "           [-0.0077, -0.0041, -0.0062,  ...,  0.0047, -0.0029, -0.0019],\n",
       "           [-0.0077, -0.0041, -0.0062,  ...,  0.0047, -0.0029, -0.0019]]],\n",
       "         grad_fn=<StackBackward0>)))"
      ]
     },
     "execution_count": 7,
     "metadata": {},
     "output_type": "execute_result"
    }
   ],
   "source": [
    "agent.get_action_and_value(input, next_lstm_state, done)"
   ]
  },
  {
   "cell_type": "code",
   "execution_count": null,
   "metadata": {},
   "outputs": [],
   "source": [
    "policy = "
   ]
  }
 ],
 "metadata": {
  "kernelspec": {
   "display_name": "testtorch",
   "language": "python",
   "name": "python3"
  },
  "language_info": {
   "codemirror_mode": {
    "name": "ipython",
    "version": 3
   },
   "file_extension": ".py",
   "mimetype": "text/x-python",
   "name": "python",
   "nbconvert_exporter": "python",
   "pygments_lexer": "ipython3",
   "version": "3.10.11"
  },
  "orig_nbformat": 4
 },
 "nbformat": 4,
 "nbformat_minor": 2
}
